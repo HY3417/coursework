{
 "cells": [
  {
   "cell_type": "code",
   "execution_count": 22,
   "metadata": {
    "collapsed": true
   },
   "outputs": [],
   "source": [
    "# Import used libraries\n",
    "%matplotlib inline\n",
    "from math import sqrt\n",
    "import numpy as np\n",
    "import matplotlib.pyplot as plt\n",
    "np.set_printoptions(suppress=True)  # supress small results\n",
    "np.set_printoptions(precision=4)  # output precision"
   ]
  },
  {
   "cell_type": "code",
   "execution_count": 23,
   "metadata": {
    "collapsed": true
   },
   "outputs": [],
   "source": [
    "#----- Defining Materials -----------------\n",
    "kx = 250.0  # Thermal conductivity [W/mK]\n",
    "ky = 250.0  # Thermal conductivity [W/mK]\n",
    "kxy = 0.0  # Thermal conductivity [W/mK]\n",
    "\n",
    "#----- Defining Section -----------------\n",
    "th = .2  # Thickness [m]\n",
    "\n",
    "#----- Integration scheme -----------------\n",
    "gaussorder = 2"
   ]
  },
  {
   "cell_type": "code",
   "execution_count": 24,
   "metadata": {
    "collapsed": true
   },
   "outputs": [],
   "source": [
    "#----- Defining Geometry -----------------\n",
    "# h = a * x**2 + b * x + h1:    Beam height as a function of x\n",
    "a = 0.25  # constant in the polynomial describing the beam height\n",
    "h1 = 1.  # [m] Height at beam left edge\n",
    "h2 = h1 * 1.3  # [m] Height at beam right edge\n",
    "L = 3. * h1  # [m] Beam length\n",
    "\n",
    "# calculate b constant in the polynomial describing the beam height\n",
    "b = -a * L + (h2 - h1) / L"
   ]
  },
  {
   "cell_type": "code",
   "execution_count": 25,
   "metadata": {
    "collapsed": true
   },
   "outputs": [],
   "source": [
    "#----- Meshing Geometry -----------------\n",
    "nelem_y = 8  # Number of elements in y-direction\n",
    "nelem_x = 15  # Number of elements in the x-direction\n",
    "\n",
    "nnode_elem = 4  # number of nodes in each element\n",
    "nNodeDof = [1, 1, 1, 1]  # number of DoF per node (1 = Temperature only)\n",
    "neDof = sum(nNodeDof)  # total number of DoF per element\n",
    "\n",
    "# Calculatations\n",
    "nelem = nelem_x * nelem_y  # Total number of elements\n",
    "nnode = (nelem_x + 1) * (nelem_y + 1)  # Total number of nodes"
   ]
  },
  {
   "cell_type": "code",
   "execution_count": 26,
   "metadata": {
    "collapsed": true
   },
   "outputs": [],
   "source": [
    "#----- Calculation of Nodal coordinate matrix -> Coord ---------\n",
    "# h(x) = a * x**2 + b * x + h1  # Beam height as a function of x\n",
    "x = np.linspace(0, L, nelem_x + 1)\n",
    "\n",
    "h = a * x**2 + b * x + h1\n",
    "Y = np.zeros((nelem_y + 1, nelem_x + 1))\n",
    "\n",
    "for colnr in range(nelem_x + 1):\n",
    "    Y[:, colnr] = np.linspace(-h[colnr] / 2, h[colnr] / 2, nelem_y + 1)\n",
    "\n",
    "Coord = np.zeros((nnode, 2))  # Coordinate of the nodes [x, y]\n",
    "\n",
    "for colnr in range(nelem_x + 1):\n",
    "    Coord[(colnr) * (nelem_y + 1):(colnr + 1) * (nelem_y + 1), 0] = x[colnr]\n",
    "    Coord[(colnr) * (nelem_y + 1):(colnr + 1) * (nelem_y + 1), 1] = Y[:, colnr]\n",
    "\n",
    "Coord;"
   ]
  },
  {
   "cell_type": "code",
   "execution_count": 27,
   "metadata": {
    "collapsed": true
   },
   "outputs": [],
   "source": [
    "#----- Calculation of topology matrix NodeTopo -----------\n",
    "NodeTopo = np.zeros((nelem_y + 1, nelem_x + 1), dtype=np.int)\n",
    "\n",
    "for colnr in range(nelem_x + 1):\n",
    "    NodeTopo[:, colnr] = np.arange((colnr) * (nelem_y + 1),\n",
    "                                   (colnr + 1) * (nelem_y + 1))\n",
    "\n",
    "NodeTopo;"
   ]
  },
  {
   "cell_type": "code",
   "execution_count": 28,
   "metadata": {
    "collapsed": true
   },
   "outputs": [],
   "source": [
    "#----- Calculation of topology matrix ElemNode -----------\n",
    "ElemNode = np.zeros((nelem, 5), dtype=np.int)  # Element connectivity\n",
    "\n",
    "elemnr = 0\n",
    "for colnr in range(nelem_x):\n",
    "    for rownr in range(nelem_y):\n",
    "        ElemNode[elemnr, 0] = elemnr\n",
    "        ElemNode[elemnr, 4] = NodeTopo[rownr + 1, colnr]  # Lower left node\n",
    "        ElemNode[elemnr, 3] = NodeTopo[rownr + 1,\n",
    "                                       colnr + 1]  # Lower right node\n",
    "        ElemNode[elemnr, 2] = NodeTopo[rownr, colnr + 1]  # Upper right node\n",
    "        ElemNode[elemnr, 1] = NodeTopo[rownr, colnr]  # upper left node\n",
    "        elemnr += 1\n",
    "\n",
    "#---------------------------------------------------------\n",
    "ElemX = np.zeros((nelem, nnode_elem))  # Element x nodal coordinates\n",
    "ElemY = np.zeros((nelem, nnode_elem))  # Element y nodal coordinates\n",
    "\n",
    "for i in range(nelem):\n",
    "    eNodes = ElemNode[i, 1:]  # Element nodes\n",
    "    eCoord = Coord[eNodes, :]\n",
    "    ElemX[i, :] = eCoord[:, 0]\n",
    "    ElemY[i, :] = eCoord[:, 1]"
   ]
  },
  {
   "cell_type": "code",
   "execution_count": 29,
   "metadata": {
    "collapsed": true
   },
   "outputs": [],
   "source": [
    "#----- Generate global dof numbers -----------------\n",
    "globDof = np.zeros((nnode, 2), dtype=np.int)  # nDof/node, Dof number\n",
    "\n",
    "Top = ElemNode[:, 1:]\n",
    "for j in range(nelem):\n",
    "    globNodes = ElemNode[j, 1:]  # Global node numbers of element nodes\n",
    "    # loop over element nodes creates the first column\n",
    "    for k in range(nnode_elem):\n",
    "        nNode = ElemNode[j, k + 1]\n",
    "        # if the already existing ndof of the present node is less than\n",
    "        # the present elements ndof then replace the ndof for that node\n",
    "        if globDof[nNode, 0] < nNodeDof[k]:\n",
    "            globDof[nNode, 0] = nNodeDof[k]\n",
    "\n",
    "# counting the global dofs and inserting in globDof\n",
    "nDof = 0\n",
    "for j in range(nnode):\n",
    "    eDof = globDof[j, 0]\n",
    "    for k in range(eDof):\n",
    "        globDof[j, k + 1] = nDof\n",
    "        nDof += 1\n",
    "\n",
    "globDof;"
   ]
  },
  {
   "cell_type": "code",
   "execution_count": 30,
   "metadata": {
    "collapsed": true
   },
   "outputs": [],
   "source": [
    "# Assembly of global stiffness matrix K -------------\n",
    "#----- Gauss-points and weights ----------------------------\n",
    "gauss = gaussorder  # Gauss order\n",
    "# Points\n",
    "GP = [-1 / sqrt(3), 1 / sqrt(3)]\n",
    "# Weights\n",
    "W = [1, 1]\n",
    "\n",
    "#----- Conductivity matrix D  -----------\n",
    "D = np.array([[kx, kxy], [kxy, ky]])\n",
    "#----------------------------------------\n",
    "\n",
    "K = np.zeros((nDof, nDof))  # Initiation of global stiffness matrix K\n",
    "\n",
    "for i in range(nelem):\n",
    "    # - data for element i\n",
    "\n",
    "    eNodes = ElemNode[i, 1:]  # Element nodes\n",
    "    eCoord = Coord[eNodes, :]  # node coordinates\n",
    "\n",
    "    gDof = np.zeros(\n",
    "        nnode_elem, dtype=np.int)  # used to constuct scatter matrix\n",
    "    for j in range(nnode_elem):\n",
    "        # global dof for node j\n",
    "        gDofNode = globDof[eNodes[j], 1:nNodeDof[j] + 1]\n",
    "        gDof[j] = gDofNode\n",
    "\n",
    "    # - Local stiffnessmatrix, Ke, is found\n",
    "    #----- Element stiffness matrix, Ke, by Gauss integration -----------\n",
    "    Ke = np.zeros((nnode_elem, nnode_elem))\n",
    "    X = eCoord[:, 0]\n",
    "    Y = eCoord[:, 1]\n",
    "    DetJ = np.zeros((gauss, gauss))  # For storing the determinants of J\n",
    "    for i in range(gauss):\n",
    "        for j in range(gauss):\n",
    "            eta = GP[i]\n",
    "            xi = GP[j]\n",
    "\n",
    "            # shape functions matrix\n",
    "            N = 0.25 * np.array([(1 - xi) * (1 - eta), (1 + xi) * (1 - eta),\n",
    "                                 (1 + xi) * (1 + eta), (1 - xi) * (1 + eta)])\n",
    "\n",
    "            # derivative (gradient) of the shape functions\n",
    "            GN = np.array([[-(1 - eta), 1 - eta, 1 + eta, -(1 + eta)],\n",
    "                           [-(1 - xi), -(1 + xi), 1 + xi, 1 - xi]]) * 0.25\n",
    "\n",
    "            # Jacobian matrix\n",
    "            J = np.dot(GN, eCoord)\n",
    "\n",
    "            # Jacobian determinant\n",
    "            DetJ = np.linalg.det(J)\n",
    "\n",
    "            # Inverse Jacobian matrix\n",
    "            invJ = np.linalg.inv(J)\n",
    "\n",
    "            B = np.dot(invJ, GN)\n",
    "\n",
    "            # Ke = Ke + B'*D*B*th*DetJ*Wi*Wj\n",
    "            Ke = Ke + np.dot(np.dot(B.T, D), B) * th * DetJ * W[i] * W[j]\n",
    "\n",
    "    # \"inserting\" the global element stiffness matrix into\n",
    "    # the global system stiffness matrix\n",
    "    K[np.ix_(gDof, gDof)] = K[np.ix_(gDof, gDof)] + Ke"
   ]
  },
  {
   "cell_type": "code",
   "execution_count": 31,
   "metadata": {
    "collapsed": false,
    "scrolled": true
   },
   "outputs": [
    {
     "data": {
      "image/png": "[encoded data removed]",
      "text/plain": [
       "<matplotlib.figure.Figure at 0x7fd8fb6479e8>"
      ]
     },
     "metadata": {},
     "output_type": "display_data"
    }
   ],
   "source": [
    "# Visualize K\n",
    "mask0 = np.where(K == 0)\n",
    "K0 = np.copy(K)\n",
    "K0[mask0] = np.nan\n",
    "plt.matshow(K0, cmap='viridis');"
   ]
  },
  {
   "cell_type": "markdown",
   "metadata": {
    "collapsed": true
   },
   "source": [
    "## Case 1"
   ]
  },
  {
   "cell_type": "code",
   "execution_count": 32,
   "metadata": {
    "collapsed": false
   },
   "outputs": [],
   "source": [
    "# Compute nodal boundary flux vector --- natural B.C\n",
    "# Defined on edges\n",
    "fluxNodes = NodeTopo[:, -1]  # Nodes at the right edge of the beam\n",
    "nFluxNodes = len(fluxNodes)  # Number of nodes on the right edge of the beam\n",
    "\n",
    "#----- Defining load ----------------------------\n",
    "q = 2500  # Constant flux at right edge of the beam\n",
    "\n",
    "n_bc = np.zeros((4, nFluxNodes - 1))\n",
    "n_bc[0:] = fluxNodes[:-1]  # node 1\n",
    "n_bc[1:] = fluxNodes[1:]  # node 2\n",
    "n_bc[2:] = q * np.ones(nFluxNodes - 1)  # flux value at node 1\n",
    "n_bc[3:] = q * np.ones(nFluxNodes - 1)  # flux value at node 2\n",
    "\n",
    "nbe = nFluxNodes - 1  # Number of elements with flux load\n",
    "\n",
    "from math import sqrt\n",
    "x, y = Coord.T  # Nodal coordinates\n",
    "f = np.zeros(nDof)  # initialize nodal flux vector\n",
    "\n",
    "for i in range(nbe):\n",
    "    fq = np.zeros(2)  # initialize the nodal source vector\n",
    "    node1 = int(n_bc[0, i])  # first node\n",
    "    node2 = int(n_bc[1, i])  # second node\n",
    "    n_bce = n_bc[2:, i]  # flux value at an edge\n",
    "\n",
    "    x1 = x[node1]  # x coord of the first node\n",
    "    y1 = y[node1]  # y coord of the first node\n",
    "    x2 = x[node2]  # x coord of the first node\n",
    "    y2 = y[node2]  # y coord of the second node\n",
    "\n",
    "    leng = sqrt((x2 - x1)**2 + (y2 - y1)**2)  # edge length\n",
    "    detJ = leng / 2  # 1D Jacobian\n",
    "\n",
    "    for i in range(gauss):  # integrate in xi direction (1D integration)\n",
    "\n",
    "        xi = GP[i]\n",
    "        # 1D  shape functions in parent domain\n",
    "        N = 0.5 * np.array([1 - xi, 1 + xi])\n",
    "\n",
    "        flux = np.dot(N, n_bce)\n",
    "        fq = fq + W[i] * N.T * flux * detJ * th  # nodal flux\n",
    "\n",
    "    fq = -fq  # define flux as negative integrals\n",
    "\n",
    "    f[node1] += fq[0]\n",
    "    f[node2] += fq[1]\n",
    "\n",
    "f;\n"
   ]
  },
  {
   "cell_type": "code",
   "execution_count": 33,
   "metadata": {
    "collapsed": true
   },
   "outputs": [],
   "source": [
    "#----- Apply boundary conditions ----------------- Essential B.C.\n",
    "TempNodes = NodeTopo[:, 0]  # Nodes at the left edge of the beam\n",
    "#------------------------------------------------\n",
    "nTempNodes = len(TempNodes)  # Number of nodes with temp BC\n",
    "\n",
    "BC = np.zeros((nTempNodes, 2))  # initialize the nodal temperature vector\n",
    "\n",
    "T0 = 10  # Temperature at boundary\n",
    "BC[:nTempNodes, 0] = TempNodes\n",
    "BC[:nTempNodes, 1] = T0\n",
    "\n",
    "BC;"
   ]
  },
  {
   "cell_type": "code",
   "execution_count": 34,
   "metadata": {
    "collapsed": true
   },
   "outputs": [],
   "source": [
    "# ----- Assembling global \"Force\" vector ------------\n",
    "OrgDof = np.zeros(nDof)  # Original DoF number\n",
    "T = np.zeros(nDof)  # initialize nodal temperature vector\n",
    "rDof = nDof  # Reduced number of DOF\n",
    "rDof\n",
    "\n",
    "ind = BC[:, 0].astype(int)\n",
    "OrgDof[ind] = -1\n",
    "T[ind] = BC[:, 1]\n",
    "rDof = rDof - len(BC)\n",
    "rDof\n",
    "\n",
    "RedDof = np.zeros(rDof, dtype=np.int)\n",
    "counter1 = 0\n",
    "for j in range(nDof):\n",
    "    if OrgDof[j] == 0:\n",
    "        OrgDof[j] = counter1\n",
    "        RedDof[counter1] = j\n",
    "        counter1 += 1\n",
    "\n",
    "T;"
   ]
  },
  {
   "cell_type": "code",
   "execution_count": 35,
   "metadata": {
    "collapsed": true
   },
   "outputs": [],
   "source": [
    "# Partition matrices\n",
    "mask_E = np.array([(i in TempNodes) for i in range(len(T))])  # knownn temp Dof\n",
    "T_E = T[mask_E]\n",
    "f_F = f[~mask_E]\n",
    "K_EE = K[np.ix_(mask_E, mask_E)]\n",
    "K_FF = K[np.ix_(~mask_E, ~mask_E)]\n",
    "K_EF = K[np.ix_(mask_E, ~mask_E)]"
   ]
  },
  {
   "cell_type": "code",
   "execution_count": 36,
   "metadata": {
    "collapsed": true
   },
   "outputs": [],
   "source": [
    "# solve for d_F\n",
    "rhs = f_F - np.dot(K_EF.T, T_E)\n",
    "T_F = np.linalg.solve(K_FF, rhs)\n",
    "T_F;"
   ]
  },
  {
   "cell_type": "code",
   "execution_count": 37,
   "metadata": {
    "collapsed": true,
    "scrolled": true
   },
   "outputs": [],
   "source": [
    "# reconstruct the global displacement d\n",
    "T[mask_E] = T_E\n",
    "T[~mask_E] = T_F\n",
    "T;"
   ]
  },
  {
   "cell_type": "code",
   "execution_count": 38,
   "metadata": {
    "collapsed": true
   },
   "outputs": [],
   "source": [
    "# compute the reaction f_E\n",
    "f_E = np.dot(K_EE, T_E) + np.dot(K_EF, T_F)\n",
    "# reconstruct the global reactions f\n",
    "f[mask_E] = f_E\n",
    "f[~mask_E] = f_F\n",
    "f;"
   ]
  },
  {
   "cell_type": "code",
   "execution_count": 39,
   "metadata": {
    "collapsed": false
   },
   "outputs": [
    {
     "data": {
      "image/png": "[encoded data removed]",
      "text/plain": [
       "<matplotlib.figure.Figure at 0x7fd8fb544cf8>"
      ]
     },
     "metadata": {},
     "output_type": "display_data"
    },
    {
     "data": {
      "image/png": "[encoded data removed]",
      "text/plain": [
       "<matplotlib.figure.Figure at 0x7fd8fb544c88>"
      ]
     },
     "metadata": {},
     "output_type": "display_data"
    },
    {
     "data": {
      "image/png": "[encoded data removed]",
      "text/plain": [
       "<matplotlib.figure.Figure at 0x7fd8fb4d0e48>"
      ]
     },
     "metadata": {},
     "output_type": "display_data"
    }
   ],
   "source": [
    "# Display matrices\n",
    "mask0 = np.where(K_EE == 0)\n",
    "K_EE0 = np.copy(K_EE)\n",
    "K_EE0[mask0] = np.nan\n",
    "plt.matshow(K_EE0, cmap='viridis')\n",
    "plt.title('K_EE')\n",
    "\n",
    "mask0 = np.where(K_EF == 0)\n",
    "K_EF0 = np.copy(K_EF)\n",
    "K_EF0[mask0] = np.nan\n",
    "plt.matshow(K_EF0, cmap='viridis')\n",
    "plt.title('K_EF')\n",
    "\n",
    "mask0 = np.where(K_FF == 0)\n",
    "K_FF0 = np.copy(K_FF)\n",
    "K_FF0[mask0] = np.nan\n",
    "plt.matshow(K_FF0, cmap='viridis')\n",
    "plt.title('K_FF');"
   ]
  },
  {
   "cell_type": "code",
   "execution_count": 40,
   "metadata": {
    "collapsed": true
   },
   "outputs": [],
   "source": [
    "# Node coordinates and values\n",
    "x, y = Coord.T\n",
    "z = T\n",
    "z;"
   ]
  },
  {
   "cell_type": "code",
   "execution_count": 41,
   "metadata": {
    "collapsed": false
   },
   "outputs": [
    {
     "data": {
      "text/plain": [
       "(array([ 10.    ,   7.6933,   4.4646,   0.8212,  -3.1903,  -7.502 ,\n",
       "        -12.0176, -16.6059, -21.1215, -25.4334, -29.4461, -33.1074,\n",
       "        -36.4046, -39.3548, -42.001 , -44.4144]),\n",
       " array([ 10.,   8.,   6.,   4.,   2.,   0.,  -2.,  -4.,  -6.,  -8., -10.,\n",
       "        -12., -14., -16., -18., -20.]))"
      ]
     },
     "execution_count": 41,
     "metadata": {},
     "output_type": "execute_result"
    },
    {
     "data": {
      "image/png": "[encoded data removed]",
      "text/plain": [
       "<matplotlib.figure.Figure at 0x7fd8fb5224a8>"
      ]
     },
     "metadata": {},
     "output_type": "display_data"
    }
   ],
   "source": [
    "nodes = NodeTopo[-1, :]  # Find solution at top edge\n",
    "# Analytical solution for beam with constant height\n",
    "z_an = -x[nodes] * q / kx + T0\n",
    "# Plot\n",
    "plt.plot(x[nodes], z[nodes], label='FE')  # FE results\n",
    "plt.plot(x[nodes], z_an, label='Analytical')  # Analytical results\n",
    "plt.legend()\n",
    "z[NodeTopo[-1, :]], z_an"
   ]
  },
  {
   "cell_type": "code",
   "execution_count": 42,
   "metadata": {
    "collapsed": false
   },
   "outputs": [],
   "source": [
    "from vtk_io import write as vtkw\n",
    "\n",
    "points = np.insert(Coord, 2, 0, axis=1)\n",
    "\n",
    "cells = {'quad': ElemNode[:, 1:]}\n",
    "\n",
    "point_data = {'disp': T}\n",
    "\n",
    "vtkw(\n",
    "    'disp.vtk',\n",
    "    points,\n",
    "    cells,\n",
    "    point_data=point_data,\n",
    "    # Optionally provide extra data on points, cells, etc.\n",
    "    # cell_data=cell_data,\n",
    "    # field_data=field_data\n",
    "    # write_binary=False,\n",
    ")"
   ]
  },
  {
   "cell_type": "markdown",
   "metadata": {
    "collapsed": true
   },
   "source": [
    "## Case 2"
   ]
  },
  {
   "cell_type": "code",
   "execution_count": 43,
   "metadata": {
    "collapsed": false
   },
   "outputs": [],
   "source": [
    "# Compute nodal boundary flux vector --- natural B.C\n",
    "# Defined on edges\n",
    "fluxNodes = NodeTopo[-1, :]  # Nodes at the top edge of the beam\n",
    "\n",
    "nFluxNodes = len(fluxNodes)  # Number of nodes on the right edge of the beam\n",
    "\n",
    "#----- Defining load ----------------------------\n",
    "q = 2500  # Constant flux at right edge of the beam\n",
    "\n",
    "n_bc = np.zeros((4, nFluxNodes - 1))\n",
    "n_bc[0:] = fluxNodes[:-1]  # node 1\n",
    "n_bc[1:] = fluxNodes[1:]  # node 2\n",
    "n_bc[2:] = q * np.ones(nFluxNodes - 1)  # flux value at node 1\n",
    "n_bc[3:] = q * np.ones(nFluxNodes - 1)  # flux value at node 2\n",
    "nbe = nFluxNodes - 1  # Number of elements with flux load\n",
    "\n",
    "from math import sqrt\n",
    "x, y = Coord.T  # Nodal coordinates\n",
    "f = np.zeros(nDof)  # initialize nodal flux vector\n",
    "\n",
    "for i in range(nbe):\n",
    "    fq = np.zeros(2)  # initialize the nodal source vector\n",
    "    node1 = int(n_bc[0, i])  # first node\n",
    "    node2 = int(n_bc[1, i])  # second node\n",
    "    n_bce = n_bc[2:, i]  # flux value at an edge\n",
    "\n",
    "    x1 = x[node1]  # x coord of the first node\n",
    "    y1 = y[node1]  # y coord of the first node\n",
    "    x2 = x[node2]  # x coord of the first node\n",
    "    y2 = y[node2]  # y coord of the second node\n",
    "    \n",
    "    leng = sqrt((x2 - x1)**2 + (y2 - y1)**2)  # edge length\n",
    "    detJ = leng / 2  # 1D Jacobian\n",
    "\n",
    "    for i in range(gauss):  # integrate in xi direction (1D integration)\n",
    "\n",
    "        xi = GP[i]\n",
    "        # 1D  shape functions in parent domain\n",
    "        N = 0.5 * np.array([1 - xi, 1 + xi])\n",
    "\n",
    "        flux = np.dot(N, n_bce)\n",
    "        fq = fq + W[i] * N.T * flux * detJ * th  # nodal flux\n",
    "\n",
    "    fq = -fq  # define flux as negative integrals\n",
    "\n",
    "    f[node1] += fq[0]\n",
    "    f[node2] += fq[1]\n",
    "\n",
    "f;"
   ]
  },
  {
   "cell_type": "code",
   "execution_count": 44,
   "metadata": {
    "collapsed": true
   },
   "outputs": [],
   "source": [
    "#----- Apply boundary conditions ----------------- Essential B.C.\n",
    "TempNodes = NodeTopo[0, :]  # Nodes at the bottom edge of the beam\n",
    "#------------------------------------------------\n",
    "nTempNodes = len(TempNodes)  # Number of nodes with temp BC\n",
    "\n",
    "BC = np.zeros((nTempNodes, 2))  # initialize the nodal temperature vector\n",
    "\n",
    "T0 = 10  # Temperature at boundary\n",
    "BC[:nTempNodes, 0] = TempNodes\n",
    "BC[:nTempNodes, 1] = T0\n",
    "\n",
    "BC;"
   ]
  },
  {
   "cell_type": "code",
   "execution_count": 45,
   "metadata": {
    "collapsed": true
   },
   "outputs": [],
   "source": [
    "# ----- Assembling global \"Force\" vector ------------\n",
    "OrgDof = np.zeros(nDof)  # Original DoF number\n",
    "T = np.zeros(nDof)  # initialize nodal temperature vector\n",
    "rDof = nDof  # Reduced number of DOF\n",
    "rDof\n",
    "\n",
    "ind = BC[:, 0].astype(int)\n",
    "OrgDof[ind] = -1\n",
    "T[ind] = BC[:, 1]\n",
    "rDof = rDof - len(BC)\n",
    "rDof\n",
    "\n",
    "RedDof = np.zeros(rDof, dtype=np.int)\n",
    "counter1 = 0\n",
    "for j in range(nDof):\n",
    "    if OrgDof[j] == 0:\n",
    "        OrgDof[j] = counter1\n",
    "        RedDof[counter1] = j\n",
    "        counter1 += 1\n",
    "\n",
    "T;"
   ]
  },
  {
   "cell_type": "code",
   "execution_count": 46,
   "metadata": {
    "collapsed": true
   },
   "outputs": [],
   "source": [
    "# Partition matrices\n",
    "mask_E = np.array([(i in TempNodes) for i in range(len(T))])  # knownn temp Dof \n",
    "T_E = T[mask_E]\n",
    "f_F = f[~mask_E]\n",
    "K_EE = K[np.ix_(mask_E, mask_E)]\n",
    "K_FF = K[np.ix_(~mask_E, ~mask_E)]\n",
    "K_EF = K[np.ix_(mask_E, ~mask_E)]"
   ]
  },
  {
   "cell_type": "code",
   "execution_count": 47,
   "metadata": {
    "collapsed": true
   },
   "outputs": [],
   "source": [
    "# solve for d_F\n",
    "rhs = f_F - np.dot(K_EF.T, T_E)\n",
    "T_F = np.linalg.solve(K_FF,rhs)\n",
    "T_F;"
   ]
  },
  {
   "cell_type": "code",
   "execution_count": 48,
   "metadata": {
    "collapsed": false,
    "scrolled": true
   },
   "outputs": [],
   "source": [
    "# reconstruct the global displacement d\n",
    "T[mask_E] = T_E\n",
    "T[~mask_E] = T_F\n",
    "T;"
   ]
  },
  {
   "cell_type": "code",
   "execution_count": 49,
   "metadata": {
    "collapsed": false
   },
   "outputs": [],
   "source": [
    "# compute the reaction f_E\n",
    "f_E = np.dot(K_EE, T_E) + np.dot(K_EF, T_F)\n",
    "# reconstruct the global reactions f\n",
    "f[mask_E] = f_E\n",
    "f[~mask_E] = f_F\n",
    "f;"
   ]
  },
  {
   "cell_type": "code",
   "execution_count": 50,
   "metadata": {
    "collapsed": false
   },
   "outputs": [
    {
     "data": {
      "image/png": "[encoded data removed]",
      "text/plain": [
       "<matplotlib.figure.Figure at 0x7fd8fb77c908>"
      ]
     },
     "metadata": {},
     "output_type": "display_data"
    },
    {
     "data": {
      "image/png": "[encoded data removed]",
      "text/plain": [
       "<matplotlib.figure.Figure at 0x7fd8fb77c5c0>"
      ]
     },
     "metadata": {},
     "output_type": "display_data"
    },
    {
     "data": {
      "image/png": "[encoded data removed]",
      "text/plain": [
       "<matplotlib.figure.Figure at 0x7fd8fb756668>"
      ]
     },
     "metadata": {},
     "output_type": "display_data"
    }
   ],
   "source": [
    "# Display matrices\n",
    "mask0 = np.where(K_EE==0)\n",
    "K_EE0 = np.copy(K_EE)\n",
    "K_EE0[mask0] = np.nan\n",
    "plt.matshow(K_EE0, cmap='viridis')\n",
    "plt.title('K_EE')\n",
    "\n",
    "mask0 = np.where(K_EF==0)\n",
    "K_EF0 = np.copy(K_EF)\n",
    "K_EF0[mask0] = np.nan\n",
    "plt.matshow(K_EF0, cmap='viridis')\n",
    "plt.title('K_EF')\n",
    "\n",
    "mask0 = np.where(K_FF==0)\n",
    "K_FF0 = np.copy(K_FF)\n",
    "K_FF0[mask0] = np.nan\n",
    "plt.matshow(K_FF0, cmap='viridis')\n",
    "plt.title('K_FF');"
   ]
  },
  {
   "cell_type": "code",
   "execution_count": 51,
   "metadata": {
    "collapsed": true
   },
   "outputs": [],
   "source": [
    "# Node coordinates and values\n",
    "x, y = Coord.T\n",
    "z = T\n",
    "z;"
   ]
  },
  {
   "cell_type": "code",
   "execution_count": 52,
   "metadata": {
    "collapsed": false,
    "scrolled": true
   },
   "outputs": [
    {
     "data": {
      "text/plain": [
       "(array([ 10.    ,   9.1953,   8.0042,   6.6302,   5.1392,   3.5633,\n",
       "          1.9204,   0.2222,  -1.5193]),\n",
       " array([ 11.5  ,   9.875,   8.25 ,   6.625,   5.   ,   3.375,   1.75 ,\n",
       "          0.125,  -1.5  ]))"
      ]
     },
     "execution_count": 52,
     "metadata": {},
     "output_type": "execute_result"
    },
    {
     "data": {
      "image/png": "[encoded data removed]",
      "text/plain": [
       "<matplotlib.figure.Figure at 0x7fd8fb7536a0>"
      ]
     },
     "metadata": {},
     "output_type": "display_data"
    }
   ],
   "source": [
    "nodes = NodeTopo[:, -1]  # Find solution at right edge\n",
    "# Analytical solution for beam with constant height\n",
    "z_an = -(y[nodes] + 0.5) * q / ky + T0  # Y is shifted by 0.5\n",
    "# Plot\n",
    "plt.plot(y[nodes], z[NodeTopo[:, -1]], label='FE')  # FE results\n",
    "plt.plot(y[nodes], z_an, label='Analytical')  # Analytical results\n",
    "plt.legend()\n",
    "z[nodes], z_an"
   ]
  },
  {
   "cell_type": "code",
   "execution_count": 53,
   "metadata": {
    "collapsed": true
   },
   "outputs": [],
   "source": [
    "from vtk_io import write as vtkw\n",
    "\n",
    "points = np.insert(Coord, 2, 0, axis=1)\n",
    "\n",
    "cells = {'quad': ElemNode[:, 1:]}\n",
    "\n",
    "point_data = {'disp': T}\n",
    "\n",
    "vtkw(\n",
    "    'disp2.vtk',\n",
    "    points,\n",
    "    cells,\n",
    "    point_data=point_data,\n",
    "    # Optionally provide extra data on points, cells, etc.\n",
    "    # cell_data=cell_data,\n",
    "    # field_data=field_data\n",
    "    # write_binary=False,\n",
    ")"
   ]
  },
  {
   "cell_type": "markdown",
   "metadata": {
    "collapsed": true
   },
   "source": [
    "## Case 3"
   ]
  },
  {
   "cell_type": "code",
   "execution_count": 54,
   "metadata": {
    "collapsed": false
   },
   "outputs": [],
   "source": [
    "# Compute nodal boundary flux vector --- natural B.C\n",
    "# Defined on edges\n",
    "fluxNodes = NodeTopo[0, :]  # Nodes at the bottom edge of the beam\n",
    "nFluxNodes = len(fluxNodes)  # Number of nodes on the bottom edge of the beam\n",
    "\n",
    "#----- Defining load ----------------------------\n",
    "q = -5000  # Constant flux at right edge of the beam\n",
    "\n",
    "n_bc = np.zeros((4, nFluxNodes - 1))\n",
    "n_bc[0:] = fluxNodes[:-1]  # node 1\n",
    "n_bc[1:] = fluxNodes[1:]  # node 2\n",
    "n_bc[2:] = q * np.ones(nFluxNodes - 1)  # flux value at node 1\n",
    "n_bc[3:] = q * np.ones(nFluxNodes - 1)  # flux value at node 2\n",
    "\n",
    "nbe = nFluxNodes - 1  # Number of elements with flux load\n",
    "\n",
    "from math import sqrt\n",
    "x, y = Coord.T  # Nodal coordinates\n",
    "f = np.zeros(nDof)  # initialize nodal flux vector\n",
    "\n",
    "for i in range(nbe):\n",
    "    fq = np.zeros(2)  # initialize the nodal source vector\n",
    "    node1 = int(n_bc[0, i])  # first node\n",
    "    node2 = int(n_bc[1, i])  # second node\n",
    "    n_bce = n_bc[2:, i]  # flux value at an edge\n",
    "\n",
    "    x1 = x[node1]  # x coord of the first node\n",
    "    y1 = y[node1]  # y coord of the first node\n",
    "    x2 = x[node2]  # x coord of the second node\n",
    "    y2 = y[node2]  # y coord of the second node\n",
    "\n",
    "    leng = sqrt((x2 - x1)**2 + (y2 - y1)**2)  # edge length\n",
    "    detJ = leng / 2  # 1D Jacobian\n",
    "\n",
    "    for i in range(gauss):  # integrate in xi direction (1D integration)\n",
    "\n",
    "        xi = GP[i]\n",
    "        # 1D  shape functions in parent domain\n",
    "        N = 0.5 * np.array([1 - xi, 1 + xi])\n",
    "\n",
    "        flux = np.dot(N, n_bce)\n",
    "        fq = fq + W[i] * N.T * flux * detJ * th  # nodal flux\n",
    "\n",
    "    fq = -fq  # define flux as negative integrals\n",
    "\n",
    "    f[node1] += fq[0]\n",
    "    f[node2] += fq[1]\n",
    "\n",
    "f;"
   ]
  },
  {
   "cell_type": "code",
   "execution_count": 55,
   "metadata": {
    "collapsed": false
   },
   "outputs": [],
   "source": [
    "#----- Apply boundary conditions ----------------- Essential B.C.\n",
    "TempNodes = NodeTopo[:, 0]  # Nodes at the left edge of the beam\n",
    "#------------------------------------------------\n",
    "nTempNodes = len(TempNodes)  # Number of nodes with temp BC\n",
    "\n",
    "BC = np.zeros((nTempNodes, 2))  # initialize the nodal temperature vector\n",
    "\n",
    "T0 = -20  # Temperature at boundary\n",
    "BC[:nTempNodes, 0] = TempNodes\n",
    "BC[:nTempNodes, 1] = T0\n",
    "\n",
    "BC;"
   ]
  },
  {
   "cell_type": "code",
   "execution_count": 56,
   "metadata": {
    "collapsed": false
   },
   "outputs": [],
   "source": [
    "# ----- Assembling global \"Force\" vector ------------\n",
    "OrgDof = np.zeros(nDof)  # Original DoF number\n",
    "T = np.zeros(nDof)  # initialize nodal temperature vector\n",
    "rDof = nDof  # Reduced number of DOF\n",
    "rDof\n",
    "\n",
    "ind = BC[:, 0].astype(int)\n",
    "OrgDof[ind] = -1\n",
    "T[ind] = BC[:, 1]\n",
    "rDof = rDof - len(BC)\n",
    "rDof\n",
    "\n",
    "RedDof = np.zeros(rDof, dtype=np.int)\n",
    "counter1 = 0\n",
    "for j in range(nDof):\n",
    "    if OrgDof[j] == 0:\n",
    "        OrgDof[j] = counter1\n",
    "        RedDof[counter1] = j\n",
    "        counter1 += 1\n",
    "\n",
    "T;"
   ]
  },
  {
   "cell_type": "code",
   "execution_count": 57,
   "metadata": {
    "collapsed": true
   },
   "outputs": [],
   "source": [
    "# Partition matrices\n",
    "mask_E = np.array([(i in TempNodes) for i in range(len(T))])  # knownn temp Dof \n",
    "T_E = T[mask_E]\n",
    "f_F = f[~mask_E]\n",
    "K_EE = K[np.ix_(mask_E, mask_E)]\n",
    "K_FF = K[np.ix_(~mask_E, ~mask_E)]\n",
    "K_EF = K[np.ix_(mask_E, ~mask_E)]"
   ]
  },
  {
   "cell_type": "code",
   "execution_count": 58,
   "metadata": {
    "collapsed": true
   },
   "outputs": [],
   "source": [
    "# solve for d_F\n",
    "rhs = f_F - np.dot(K_EF.T, T_E)\n",
    "T_F = np.linalg.solve(K_FF,rhs)\n",
    "T_F;"
   ]
  },
  {
   "cell_type": "code",
   "execution_count": 59,
   "metadata": {
    "collapsed": false
   },
   "outputs": [],
   "source": [
    "# reconstruct the global displacement d\n",
    "T[mask_E] = T_E\n",
    "T[~mask_E] = T_F\n",
    "T;"
   ]
  },
  {
   "cell_type": "code",
   "execution_count": 60,
   "metadata": {
    "collapsed": false
   },
   "outputs": [],
   "source": [
    "# compute the reaction f_E\n",
    "f_E = np.dot(K_EE, T_E) + np.dot(K_EF, T_F)\n",
    "# reconstruct the global reactions f\n",
    "f[mask_E] = f_E\n",
    "f[~mask_E] = f_F\n",
    "f;"
   ]
  },
  {
   "cell_type": "code",
   "execution_count": 61,
   "metadata": {
    "collapsed": false
   },
   "outputs": [
    {
     "data": {
      "image/png": "[encoded data removed]",
      "text/plain": [
       "<matplotlib.figure.Figure at 0x7fd8fb7e9d68>"
      ]
     },
     "metadata": {},
     "output_type": "display_data"
    },
    {
     "data": {
      "image/png": "[encoded data removed]",
      "text/plain": [
       "<matplotlib.figure.Figure at 0x7fd8fb7e9eb8>"
      ]
     },
     "metadata": {},
     "output_type": "display_data"
    },
    {
     "data": {
      "image/png": "[encoded data removed]",
      "text/plain": [
       "<matplotlib.figure.Figure at 0x7fd8fb80ca20>"
      ]
     },
     "metadata": {},
     "output_type": "display_data"
    }
   ],
   "source": [
    "# Display matrices\n",
    "mask0 = np.where(K_EE==0)\n",
    "K_EE0 = np.copy(K_EE)\n",
    "K_EE0[mask0] = np.nan\n",
    "plt.matshow(K_EE0, cmap='viridis')\n",
    "plt.title('K_EE')\n",
    "\n",
    "mask0 = np.where(K_EF==0)\n",
    "K_EF0 = np.copy(K_EF)\n",
    "K_EF0[mask0] = np.nan\n",
    "plt.matshow(K_EF0, cmap='viridis')\n",
    "plt.title('K_EF')\n",
    "\n",
    "mask0 = np.where(K_FF==0)\n",
    "K_FF0 = np.copy(K_FF)\n",
    "K_FF0[mask0] = np.nan\n",
    "plt.matshow(K_FF0, cmap='viridis')\n",
    "plt.title('K_FF');"
   ]
  },
  {
   "cell_type": "code",
   "execution_count": 62,
   "metadata": {
    "collapsed": true
   },
   "outputs": [],
   "source": [
    "from vtk_io import write as vtkw\n",
    "\n",
    "points = np.insert(Coord, 2, 0, axis=1)\n",
    "\n",
    "cells = {'quad': ElemNode[:, 1:]}\n",
    "\n",
    "point_data = {'disp': T}\n",
    "\n",
    "vtkw(\n",
    "    'disp2.vtk',\n",
    "    points,\n",
    "    cells,\n",
    "    point_data=point_data,\n",
    "    # Optionally provide extra data on points, cells, etc.\n",
    "    # cell_data=cell_data,\n",
    "    # field_data=field_data\n",
    "    # write_binary=False,\n",
    ")"
   ]
  }
 ],
 "metadata": {
  "kernelspec": {
   "display_name": "Python 3",
   "language": "python",
   "name": "python3"
  },
  "language_info": {
   "codemirror_mode": {
    "name": "ipython",
    "version": 3
   },
   "file_extension": ".py",
   "mimetype": "text/x-python",
   "name": "python",
   "nbconvert_exporter": "python",
   "pygments_lexer": "ipython3",
   "version": "3.5.3"
  },
  "latex_envs": {
   "LaTeX_envs_menu_present": false,
   "autocomplete": true,
   "bibliofile": "biblio.bib",
   "cite_by": "number",
   "current_citInitial": 1,
   "eqLabelWithNumbers": true,
   "eqNumInitial": 1,
   "hotkeys": {
    "equation": "Ctrl-E",
    "itemize": "Ctrl-I"
   },
   "labels_anchors": false,
   "latex_user_defs": true,
   "report_style_numbering": false,
   "user_envs_cfg": false
  },
  "nbTranslate": {
   "displayLangs": [
    "*"
   ],
   "hotkey": "alt-t",
   "langInMainMenu": true,
   "sourceLang": "en",
   "targetLang": "fr",
   "useGoogleTranslate": true
  },
  "toc": {
   "nav_menu": {},
   "number_sections": false,
   "sideBar": true,
   "skip_h1_title": false,
   "toc_cell": false,
   "toc_position": {},
   "toc_section_display": "block",
   "toc_window_display": true
  },
  "varInspector": {
   "cols": {
    "lenName": 16,
    "lenType": 16,
    "lenVar": 40
   },
   "kernels_config": {
    "python": {
     "delete_cmd_postfix": "",
     "delete_cmd_prefix": "del ",
     "library": "var_list.py",
     "varRefreshCmd": "print(var_dic_list())"
    },
    "r": {
     "delete_cmd_postfix": ") ",
     "delete_cmd_prefix": "rm(",
     "library": "var_list.r",
     "varRefreshCmd": "cat(var_dic_list()) "
    }
   },
   "position": {
    "height": "308px",
    "left": "2127px",
    "right": "20px",
    "top": "120px",
    "width": "350px"
   },
   "types_to_exclude": [
    "module",
    "function",
    "builtin_function_or_method",
    "instance",
    "_Feature"
   ],
   "window_display": true
  }
 },
 "nbformat": 4,
 "nbformat_minor": 2
}
